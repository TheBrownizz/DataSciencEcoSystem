{
 "cells": [
  {
   "cell_type": "markdown",
   "id": "3bc214df-8386-49f5-a536-6a23f118a257",
   "metadata": {},
   "source": [
    "# Data Science Tools And Ecosystem"
   ]
  },
  {
   "cell_type": "markdown",
   "id": "33132b3d-c135-41eb-8e7b-2da6f42c7f4e",
   "metadata": {},
   "source": [
    "In this notebook, Data Science Tools and Ecosystem are summarized."
   ]
  },
  {
   "cell_type": "markdown",
   "id": "0ae6330a-e849-464c-9049-f7b3390cd9f6",
   "metadata": {},
   "source": [
    "__Objectives:__ \n",
    "- List popular languages for Data Science\n",
    "- Commonly used libraries for Data Science \n",
    "- List of popular Data Science Tools"
   ]
  },
  {
   "cell_type": "markdown",
   "id": "05dafd0c-2f7a-43d7-8ac6-efe1a62fda78",
   "metadata": {},
   "source": [
    "Some of the popular languages that Data Scientist use are:\n",
    "1. Python\n",
    "2. R\n",
    "3. SQL"
   ]
  },
  {
   "cell_type": "markdown",
   "id": "11eddf34-9911-4f96-a058-ab2ef5a2dbb5",
   "metadata": {},
   "source": [
    "Some of the commonly used libraries used by Data Scientists include:\n",
    "1. NumPy\n",
    "2. Pandas\n",
    "3. Matplotlib"
   ]
  },
  {
   "cell_type": "markdown",
   "id": "834ee8ef-1d57-4bbd-a18c-554a4f7c78de",
   "metadata": {},
   "source": [
    "| Data Science Tools | \n",
    "| ------------------ |\n",
    "| JupyterLab |\n",
    "| Spyder |\n",
    "| RStudio |"
   ]
  },
  {
   "cell_type": "markdown",
   "id": "bddf1690-9164-4203-931a-cff0ebdaab96",
   "metadata": {},
   "source": [
    "### Below are a few examples of evaluating arithmetic expressions in Python"
   ]
  },
  {
   "cell_type": "code",
   "execution_count": 17,
   "id": "a11f681f-6e52-41f9-b82b-c45bf3abafe8",
   "metadata": {},
   "outputs": [
    {
     "data": {
      "text/plain": [
       "17"
      ]
     },
     "execution_count": 17,
     "metadata": {},
     "output_type": "execute_result"
    }
   ],
   "source": [
    "# This a simple arithmetic expression to multiply then add integers\n",
    "\n",
    "(3*4) + 5"
   ]
  },
  {
   "cell_type": "code",
   "execution_count": 19,
   "id": "e8fb3554-1fce-424c-984c-5d5d84cd0902",
   "metadata": {},
   "outputs": [
    {
     "data": {
      "text/plain": [
       "3.3333333333333335"
      ]
     },
     "execution_count": 19,
     "metadata": {},
     "output_type": "execute_result"
    }
   ],
   "source": [
    "# This will convert 200 minutes to hours by dividing by 60.\n",
    "\n",
    "200/60"
   ]
  },
  {
   "cell_type": "markdown",
   "id": "f03488de-acc7-45c5-92f3-6f4d76644dab",
   "metadata": {},
   "source": [
    "## Author \n",
    "Daniel Shkinder"
   ]
  },
  {
   "cell_type": "code",
   "execution_count": null,
   "id": "0e3bc06a-e131-4943-836a-ee451f8bf1e4",
   "metadata": {},
   "outputs": [],
   "source": []
  }
 ],
 "metadata": {
  "kernelspec": {
   "display_name": "Python 3 (ipykernel)",
   "language": "python",
   "name": "python3"
  },
  "language_info": {
   "codemirror_mode": {
    "name": "ipython",
    "version": 3
   },
   "file_extension": ".py",
   "mimetype": "text/x-python",
   "name": "python",
   "nbconvert_exporter": "python",
   "pygments_lexer": "ipython3",
   "version": "3.12.4"
  }
 },
 "nbformat": 4,
 "nbformat_minor": 5
}
